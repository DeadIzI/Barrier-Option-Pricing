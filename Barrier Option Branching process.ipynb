{
 "cells": [
  {
   "cell_type": "code",
   "execution_count": 17,
   "id": "3c96246f",
   "metadata": {},
   "outputs": [
    {
     "name": "stdout",
     "output_type": "stream",
     "text": [
      "Population: [1, 4, 7, 23, 66, 193, 598, 1829, 5532, 16401, 48704]\n",
      "Prix de l'option barrière: 3.2474774165608125\n"
     ]
    }
   ],
   "source": [
    "import numpy as np\n",
    "from scipy.stats import norm\n",
    "\n",
    "# Fonction pour simuler un processus de branchement général\n",
    "def branching_process(population_size, reproduction_function, max_generations):\n",
    "    population = [population_size]  # Population initiale avec un seul individu\n",
    "    generations = 1\n",
    "\n",
    "    while generations <= max_generations:\n",
    "        new_generation = 0\n",
    "        for _ in range(population[-1]):\n",
    "            offspring = reproduction_function()\n",
    "            new_generation += offspring\n",
    "        population.append(new_generation)\n",
    "        generations += 1\n",
    "\n",
    "    return population\n",
    "\n",
    "# Simulation d'un processus de branchement général avec une fonction de reproduction arbitraire\n",
    "population_size = 1\n",
    "\n",
    "def reproduction_function():\n",
    "    # Exemple de fonction de reproduction produisant un nombre aléatoire d'individus\n",
    "    return np.random.poisson(3)\n",
    "\n",
    "max_generations = 10\n",
    "\n",
    "population = branching_process(population_size, reproduction_function, max_generations)\n",
    "print(\"Population:\", population)\n",
    "\n",
    "# Fonction pour évaluer une option barrière\n",
    "def evaluate_barrier_option(spot_price, barrier_price, risk_free_rate, volatility, time_to_maturity, option_type):\n",
    "    # Calcul des paramètres de l'option\n",
    "    d1 = (np.log(spot_price / barrier_price) + (risk_free_rate + 0.5 * volatility**2) * time_to_maturity) / (volatility * np.sqrt(time_to_maturity))\n",
    "    d2 = d1 - volatility * np.sqrt(time_to_maturity)\n",
    "    \n",
    "    # Calcul du prix de l'option en fonction du type (call ou put)\n",
    "    if option_type == 'call':\n",
    "        option_price = spot_price * norm.cdf(d1) - barrier_price * np.exp(-risk_free_rate * time_to_maturity) * norm.cdf(d2)\n",
    "    elif option_type == 'put':\n",
    "        option_price = barrier_price * np.exp(-risk_free_rate * time_to_maturity) * norm.cdf(-d2) - spot_price * norm.cdf(-d1)\n",
    "    else:\n",
    "        raise ValueError(\"Invalid option type\")\n",
    "    \n",
    "    return option_price\n",
    "\n",
    "# Exemple d'évaluation d'une option barrière avec un processus de branchement général\n",
    "spot_price = 100\n",
    "barrier_price = 120\n",
    "risk_free_rate = 0.05\n",
    "volatility = 0.2\n",
    "time_to_maturity = 1\n",
    "option_type = 'call'\n",
    "\n",
    "option_price = evaluate_barrier_option(spot_price, barrier_price, risk_free_rate, volatility, time_to_maturity, option_type)\n",
    "print(\"Prix de l'option barrière:\", option_price)\n"
   ]
  },
  {
   "cell_type": "code",
   "execution_count": 3,
   "id": "8724cf4e",
   "metadata": {},
   "outputs": [
    {
     "name": "stdout",
     "output_type": "stream",
     "text": [
      "Population: [1, 5, 25, 113, 559, 2753, 13578, 67127, 332322, 1641675, 8110144]\n"
     ]
    }
   ],
   "source": [
    "import numpy as np\n",
    "from scipy.stats import norm\n",
    "\n",
    "# Fonction pour simuler le processus de Galton-Watson\n",
    "def galton_watson_process(population_size, reproduction_distribution, max_generations):\n",
    "    population = [population_size]  # Population initiale avec un seul individu\n",
    "    generations = 1\n",
    "\n",
    "    while generations <= max_generations:\n",
    "        new_generation = 0\n",
    "        for _ in range(population[-1]):\n",
    "            offspring = np.random.choice(reproduction_distribution)\n",
    "            new_generation += offspring\n",
    "        population.append(new_generation)\n",
    "        generations += 1\n",
    "\n",
    "    return population\n",
    "\n",
    "# Simulation du processus de Galton-Watson avec une loi de reproduction suivant une distribution binomiale\n",
    "population_size = 1\n",
    "reproduction_distribution = np.random.binomial(10, 0.5, size=100)  # Exemple de distribution binomiale\n",
    "#géométrique de l'article\n",
    "#component wise\n",
    "max_generations = 10\n",
    "#possible sur d'autres fonctions de reproduction que binomiale, à voir la pertinence\n",
    "population = galton_watson_process(population_size, reproduction_distribution, max_generations)\n",
    "print(\"Population:\", population)\n",
    "\n"
   ]
  },
  {
   "cell_type": "code",
   "execution_count": 8,
   "id": "facba639",
   "metadata": {},
   "outputs": [
    {
     "name": "stdout",
     "output_type": "stream",
     "text": [
      "pricing d'option barrière 90.14980016513215\n"
     ]
    }
   ],
   "source": [
    "# Fonction pour évaluer une option barrière\n",
    "import numpy as np\n",
    "from scipy.stats import norm\n",
    "\n",
    "def evaluate_barrier_option(spot_price, barrier_price, risk_free_rate, volatility, time_to_maturity, option_type):\n",
    "    # Calcul des paramètres de l'option, Black Scholes equations\n",
    "    d1 = (np.log(spot_price / barrier_price) + (risk_free_rate + 0.5 * volatility**2) * time_to_maturity) / (volatility * np.sqrt(time_to_maturity))\n",
    "    d2 = d1 - volatility * np.sqrt(time_to_maturity)\n",
    "    \n",
    "    # Calcul du prix de l'option en fonction du type (call ou put)\n",
    "    if option_type == 'call':\n",
    "        option_price = spot_price * norm.cdf(d1) - barrier_price * np.exp(-risk_free_rate * time_to_maturity) * norm.cdf(d2)\n",
    "    elif option_type == 'put':\n",
    "        option_price = barrier_price * np.exp(-risk_free_rate * time_to_maturity) * norm.cdf(-d2) - spot_price * norm.cdf(-d1)\n",
    "    else:\n",
    "        raise ValueError(\"Invalid option type\")\n",
    "    \n",
    "    return option_price\n",
    "\n",
    "# Exemple d'évaluation d'une option barrière\n",
    "spot_price = 100\n",
    "barrier_price = 120\n",
    "risk_free_rate=0.5\n",
    "volatility = 0.1\n",
    "time_to_maturity = 5\n",
    "option_type='call'\n",
    "print(\"pricing d'option barrière\", evaluate_barrier_option(spot_price, barrier_price, risk_free_rate, volatility, time_to_maturity,option_type))"
   ]
  },
  {
   "cell_type": "code",
   "execution_count": 14,
   "id": "a3e4a5f0",
   "metadata": {},
   "outputs": [
    {
     "name": "stdout",
     "output_type": "stream",
     "text": [
      "pricing barrier (0.0, 0.0)\n"
     ]
    }
   ],
   "source": [
    "# Fonction pour évaluer une option barrière avec le processus de Galton-Watson\n",
    "def evaluate_barrier_option_gw(spot_price, barrier_price, risk_free_rate, volatility, time_to_maturity, option_type, gw_population_size, gw_reproduction_distribution, gw_max_generations, num_simulations):\n",
    "    option_prices = []\n",
    "\n",
    "    for _ in range(num_simulations):\n",
    "        population = galton_watson_process(gw_population_size, gw_reproduction_distribution, gw_max_generations)\n",
    "\n",
    "        # Générer les trajectoires du sous-jacent en utilisant les populations simulées\n",
    "        prices = [spot_price]\n",
    "        for i in range(1, gw_max_generations + 1):\n",
    "            drift = risk_free_rate * i\n",
    "            diffusion = volatility * np.sqrt(i) * np.random.normal(0, 1)\n",
    "            price = prices[i-1] + drift * prices[i-1] + diffusion * prices[i-1]\n",
    "            prices.append(price)\n",
    "\n",
    "        # Vérifier si la barrière a été franchie\n",
    "        barrier_crossed = False\n",
    "        for price in prices:\n",
    "            if price <= barrier_price:\n",
    "                barrier_crossed = True\n",
    "                break\n",
    "\n",
    "        # Calcul du prix de l'option en fonction du type (call ou put)\n",
    "        if option_type == 'call':\n",
    "            if barrier_crossed:\n",
    "                option_price = 0\n",
    "            else:\n",
    "                option_price = np.maximum(prices[-1] - spot_price, 0)\n",
    "        elif option_type == 'put':\n",
    "            if barrier_crossed:\n",
    "                option_price = np.maximum(barrier_price - prices[-1], 0)\n",
    "            else:\n",
    "                option_price = 0\n",
    "        else:\n",
    "            raise ValueError(\"Invalid option type\")\n",
    "\n",
    "        option_prices.append(option_price)\n",
    "\n",
    "    option_price_mean = np.mean(option_prices)\n",
    "    option_price_std = np.std(option_prices)\n",
    "\n",
    "    return option_price_mean, option_price_std\n",
    "\n",
    "# Paramètres du processus de Galton-Watson\n",
    "population_size_gw = 1\n",
    "reproduction_distribution_gw = np.random.binomial(10, 0.5, size=100)  # Exemple de distribution binomiale\n",
    "max_generations_gw = 10\n",
    "\n",
    "# Paramètres de l'option barrière\n",
    "spot_price = 100\n",
    "barrier_price = 120\n",
    "risk_free_rate = 0.5\n",
    "volatility = 0.2\n",
    "time_to_maturity = 5\n",
    "option_type='call'\n",
    "\n",
    "num_simulations = 1000\n",
    "print(\"pricing barrier\", evaluate_barrier_option_gw(spot_price, barrier_price, risk_free_rate, volatility, time_to_maturity, option_type, gw_population_size, gw_reproduction_distribution, gw_max_generations, num_simulations))"
   ]
  },
  {
   "cell_type": "code",
   "execution_count": 16,
   "id": "66ebee28",
   "metadata": {},
   "outputs": [
    {
     "name": "stdout",
     "output_type": "stream",
     "text": [
      "Prix de l'option barrière: nan\n"
     ]
    }
   ],
   "source": [
    "import numpy as np\n",
    "\n",
    "def barrier_option_branching_process(spot_price, strike_price, barrier_price, risk_free_rate, volatility, time_to_maturity, num_simulations, num_steps):\n",
    "    dt = time_to_maturity / num_steps\n",
    "    discount_factor = np.exp(-risk_free_rate * time_to_maturity)\n",
    "\n",
    "    option_prices = []\n",
    "\n",
    "    for _ in range(num_simulations):\n",
    "        prices = [spot_price]\n",
    "        barrier_crossed = False\n",
    "\n",
    "        for _ in range(num_steps):\n",
    "            drift = (risk_free_rate - 0.5 * volatility**2) * dt\n",
    "            diffusion = volatility * np.sqrt(dt) * np.random.normal(0, 1)\n",
    "            price = prices[-1] + drift * prices[-1] + diffusion * prices[-1]\n",
    "            prices.append(price)\n",
    "\n",
    "            if price <= barrier_price:\n",
    "                barrier_crossed = True\n",
    "                break\n",
    "\n",
    "        if not barrier_crossed:\n",
    "            payoff = np.maximum(prices[-1] - strike_price, 0)\n",
    "            option_prices.append(payoff)\n",
    "\n",
    "    option_price = np.mean(option_prices) * discount_factor\n",
    "\n",
    "    return option_price\n",
    "\n",
    "spot_price = 100\n",
    "strike_price = 105\n",
    "barrier_price = 120\n",
    "risk_free_rate = 0.05\n",
    "volatility = 0.2\n",
    "time_to_maturity = 1\n",
    "num_simulations = 10000\n",
    "num_steps = 100\n",
    "\n",
    "option_price = barrier_option_branching_process(spot_price, strike_price, barrier_price, risk_free_rate, volatility, time_to_maturity, num_simulations, num_steps)\n",
    "\n",
    "print(\"Prix de l'option barrière:\", option_price)\n"
   ]
  },
  {
   "cell_type": "code",
   "execution_count": 5,
   "id": "f5551193",
   "metadata": {},
   "outputs": [
    {
     "data": {
      "image/png": "[encoded data removed]",
      "text/plain": [
       "<Figure size 432x288 with 1 Axes>"
      ]
     },
     "metadata": {
      "needs_background": "light"
     },
     "output_type": "display_data"
    }
   ],
   "source": [
    "import numpy as np\n",
    "from matplotlib import pyplot as plt\n",
    "def visualize_galton_watson(process):\n",
    "    generations = len(process)\n",
    "    max_population = max(process)\n",
    "\n",
    "    plt.bar(range(generations), process)\n",
    "    plt.xlabel(\"Generations\")\n",
    "    plt.ylabel(\"Population\")\n",
    "    plt.title(\"Galton-Watson Process\")\n",
    "    plt.xticks(range(generations))\n",
    "    plt.ylim(0, max_population * 1.1)\n",
    "    plt.show()\n",
    "    \n",
    "# Simulation du processus de Galton-Watson avec une loi de reproduction suivant une distribution binomiale\n",
    "population_size = 1\n",
    "reproduction_distribution = np.random.binomial(10, 0.5, size=100)  # Exemple de distribution binomiale\n",
    "max_generations = 10\n",
    "#possible sur d'autres fonctions de reproduction que binomiale, à voir la pertinence\n",
    "process = galton_watson_process(population_size, reproduction_distribution, max_generations)\n",
    "# Visualize the process\n",
    "visualize_galton_watson(process)"
   ]
  },
  {
   "cell_type": "code",
   "execution_count": null,
   "id": "71eb0592",
   "metadata": {},
   "outputs": [],
   "source": []
  }
 ],
 "metadata": {
  "kernelspec": {
   "display_name": "Python 3 (ipykernel)",
   "language": "python",
   "name": "python3"
  },
  "language_info": {
   "codemirror_mode": {
    "name": "ipython",
    "version": 3
   },
   "file_extension": ".py",
   "mimetype": "text/x-python",
   "name": "python",
   "nbconvert_exporter": "python",
   "pygments_lexer": "ipython3",
   "version": "3.8.12"
  }
 },
 "nbformat": 4,
 "nbformat_minor": 5
}
