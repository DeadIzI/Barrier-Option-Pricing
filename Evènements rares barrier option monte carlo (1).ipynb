{
 "cells": [
  {
   "cell_type": "code",
   "execution_count": 1,
   "id": "6aee7a3e",
   "metadata": {},
   "outputs": [
    {
     "name": "stdout",
     "output_type": "stream",
     "text": [
      "Prix de l'option barrière: 0.0\n",
      "Probabilité de franchissement de la barrière: 1.0\n"
     ]
    }
   ],
   "source": [
    "import numpy as np\n",
    "\n",
    "def barrier_option_mc(spot_price, strike_price, barrier_price, risk_free_rate, volatility, time_to_maturity, num_simulations, num_steps):\n",
    "    dt = time_to_maturity / num_steps\n",
    "    discount_factor = np.exp(-risk_free_rate * time_to_maturity)\n",
    "\n",
    "    barrier_hits = 0\n",
    "    total_payoff = 0\n",
    "\n",
    "    for _ in range(num_simulations):\n",
    "        price = spot_price\n",
    "        barrier_crossed = False\n",
    "\n",
    "        for _ in range(num_steps):\n",
    "            drift = (risk_free_rate - 0.5 * volatility**2) * dt\n",
    "            diffusion = volatility * np.sqrt(dt) * np.random.normal(0, 1)\n",
    "            price += drift * price + diffusion * price\n",
    "\n",
    "            if price <= barrier_price:\n",
    "                barrier_crossed = True\n",
    "                break\n",
    "\n",
    "        if not barrier_crossed:\n",
    "            payoff = np.maximum(price - strike_price, 0)\n",
    "            total_payoff += payoff\n",
    "        else:\n",
    "            barrier_hits += 1\n",
    "\n",
    "    option_price = total_payoff / num_simulations * discount_factor\n",
    "\n",
    "    return option_price, barrier_hits / num_simulations\n",
    "\n",
    "spot_price = 100\n",
    "strike_price = 90\n",
    "barrier_price = 120\n",
    "risk_free_rate = 0.05\n",
    "volatility = 0.2\n",
    "time_to_maturity = 5\n",
    "num_simulations = 10000\n",
    "num_steps = 100\n",
    "\n",
    "option_price, barrier_hit_probability = barrier_option_mc(spot_price, strike_price, barrier_price, risk_free_rate, volatility, time_to_maturity, num_simulations, num_steps)\n",
    "\n",
    "print(\"Prix de l'option barrière:\", option_price)\n",
    "print(\"Probabilité de franchissement de la barrière:\", barrier_hit_probability)\n"
   ]
  },
  {
   "cell_type": "code",
   "execution_count": null,
   "id": "46e76bd3",
   "metadata": {},
   "outputs": [],
   "source": []
  }
 ],
 "metadata": {
  "kernelspec": {
   "display_name": "Python 3 (ipykernel)",
   "language": "python",
   "name": "python3"
  },
  "language_info": {
   "codemirror_mode": {
    "name": "ipython",
    "version": 3
   },
   "file_extension": ".py",
   "mimetype": "text/x-python",
   "name": "python",
   "nbconvert_exporter": "python",
   "pygments_lexer": "ipython3",
   "version": "3.8.12"
  }
 },
 "nbformat": 4,
 "nbformat_minor": 5
}
